{
 "cells": [
  {
   "cell_type": "code",
   "execution_count": null,
   "id": "1d2a4d57",
   "metadata": {},
   "outputs": [],
   "source": [
    "import requests\n",
    "import time\n",
    "import os\n",
    "import json\n",
    "import pickle\n",
    "from tqdm import tqdm,trange\n",
    "from openai import OpenAI\n",
    "import pandas as pd\n",
    "from typing import List, Tuple\n",
    "from anthropic import Anthropic\n",
    "\n",
    "os.environ[\"OPENAI_API_KEY\"] = \"\"\n",
    "os.environ[\"OPENAI_BASE_URL\"] = \"https://api.deepseek.com\""
   ]
  },
  {
   "cell_type": "code",
   "execution_count": 25,
   "id": "e9d5c117",
   "metadata": {},
   "outputs": [],
   "source": [
    "#load prompts from data/prompts.yaml\n",
    "import yaml\n",
    "with open('data/prompts.yaml', 'r') as file:\n",
    "    prompts = yaml.safe_load(file)\n",
    "\n",
    "#load CollectedIssues.csv\n",
    "df = pd.read_csv('./data/CollectedIssues.csv')"
   ]
  },
  {
   "cell_type": "code",
   "execution_count": 26,
   "id": "a84a1a83",
   "metadata": {},
   "outputs": [],
   "source": [
    "#prompts"
   ]
  },
  {
   "cell_type": "code",
   "execution_count": null,
   "id": "b25fbe5b",
   "metadata": {},
   "outputs": [],
   "source": [
    "def Query(model, sys, usr, max_retries=3, retry_delay=10):\n",
    "\n",
    "    if 'claude' in model:\n",
    "        client = Anthropic(\n",
    "            base_url='https://api.openai-proxy.org/anthropic',\n",
    "            api_key='',\n",
    "        )\n",
    "        for try_idx in range(5):\n",
    "            try:\n",
    "                message = client.messages.create(\n",
    "                    system=sys,\n",
    "                    messages=[\n",
    "                        {\n",
    "                            \"role\": \"user\",\n",
    "                            \"content\": usr,\n",
    "                        }\n",
    "                    ],\n",
    "                    model=\"claude-3-7-sonnet-20250219\",\n",
    "                    max_tokens=2048\n",
    "                )\n",
    "\n",
    "                \n",
    "                final_response = message.content[0].text\n",
    "                # print(final_response)\n",
    "                return final_response\n",
    "            except Exception as e:\n",
    "                # print(e)\n",
    "                \n",
    "                time.sleep(2)\n",
    "        return None\n",
    "    \n",
    "    if 'gemini' in model:\n",
    "        client = OpenAI(api_key=\"\", base_url=\"https://api.openai-proxy.org/v1\")\n",
    "    if 'deepseek' in model:\n",
    "        client = OpenAI(api_key=\"\", base_url=\"https://api.deepseek.com\")\n",
    "    if 'gpt' in model or 'o3' in model:\n",
    "        client = OpenAI(api_key=\"\", base_url=\"https://api.openai-proxy.org/v1\")\n",
    "    for i in range(max_retries):\n",
    "        try:\n",
    "            response = client.chat.completions.create(\n",
    "                model=model,\n",
    "                messages=[\n",
    "                    {\"role\": \"system\", \"content\": sys},\n",
    "                    {\"role\": \"user\", \"content\": usr},\n",
    "                ],\n",
    "                stream=False\n",
    "            )\n",
    "            return response.choices[0].message.content\n",
    "        except Exception as e:\n",
    "            print(e)\n",
    "            time.sleep(retry_delay)\n",
    "            continue\n",
    "    return None"
   ]
  },
  {
   "cell_type": "code",
   "execution_count": null,
   "id": "1931d9cf",
   "metadata": {},
   "outputs": [
    {
     "name": "stderr",
     "output_type": "stream",
     "text": [
      "  0%|          | 0/700 [00:05<?, ?it/s]"
     ]
    },
    {
     "name": "stdout",
     "output_type": "stream",
     "text": [
      "```json\n",
      "{\n",
      "  \"bug_symptom\": {\n",
      "    \"primary_category\": \"A Crash\",\n",
      "    \"subcategory\": \"A.1 Reference Error\",\n",
      "    \"specific_type\": \"A.1.1 DL Operator Exception\"\n",
      "  },\n",
      "  \"root_cause\": {\n",
      "    \"primary_category\": \"A Incorrect Programming\",\n",
      "    \"subcategory\": \"A.1 Unimplemented Operator\"\n",
      "  }\n",
      "}\n",
      "```\n"
     ]
    },
    {
     "name": "stderr",
     "output_type": "stream",
     "text": [
      "\n"
     ]
    }
   ],
   "source": [
    "\n",
    "results = []\n",
    "\n",
    "model = \"gemini-2.5-flash\"\n",
    "\n",
    "# for idx, row in tqdm(df.iterrows(), total=len(df)):\n",
    "for idx, row in tqdm(df.iterrows(), total=len(df)):\n",
    "    url = str(row['Faults'])\n",
    "    if 'issues' not in url:\n",
    "        continue\n",
    "\n",
    "    #issue report\n",
    "    title = str(row.get('title', ''))\n",
    "    created_at = str(row.get('created_at', ''))\n",
    "    body = str(row.get('body', ''))\n",
    "    comments_content = str(row.get('comments_content', ''))\n",
    "\n",
    "    issue_report = f\"##Issue Report\\n###[Title]: {title}\\n###[Created At]: {created_at}\\n###[Body]:\\n {body}\\n###[Other Comments]:\\n {comments_content}\"\n",
    "\n",
    "    #user prompt\n",
    "    user_prompt = prompts['user_input']['template'].replace(\"{{ISSUE REPORT}}\", issue_report)\n",
    "    sys_prompt = prompts['sys_classification']['template']\n",
    "\n",
    "    response = Query(model, sys_prompt, user_prompt)\n",
    "\n",
    "    # copy row, and append a new column 'LLM_classification' with the response\n",
    "    new_row = row.copy()\n",
    "    new_row['LLM_classification'] = response\n",
    "    results.append(new_row)\n",
    "\n",
    "    # save results to a new csv file\n",
    "    # pd.DataFrame(results).to_csv(f'./res/Labeling_{model}.csv', index=False)\n",
    "    print(response)\n",
    "    break\n",
    "\n",
    "\n",
    "\n",
    "\n",
    "\n",
    "\n"
   ]
  }
 ],
 "metadata": {
  "kernelspec": {
   "display_name": "py39",
   "language": "python",
   "name": "python3"
  },
  "language_info": {
   "codemirror_mode": {
    "name": "ipython",
    "version": 3
   },
   "file_extension": ".py",
   "mimetype": "text/x-python",
   "name": "python",
   "nbconvert_exporter": "python",
   "pygments_lexer": "ipython3",
   "version": "undefined.undefined.undefined"
  }
 },
 "nbformat": 4,
 "nbformat_minor": 5
}
